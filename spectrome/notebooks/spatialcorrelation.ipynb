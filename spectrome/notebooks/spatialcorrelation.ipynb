{
 "cells": [
  {
   "cell_type": "markdown",
   "source": [
    "## Check spatial correlation for new and old model"
   ],
   "metadata": {}
  },
  {
   "cell_type": "code",
   "execution_count": null,
   "source": [
    "# this path append is for binder only\n",
    "import sys\n",
    "sys.path.append(\"../../\")\n",
    "\n",
    "#spectrome modules\n",
    "from spectrome.forward import runforward_spatialcorrelation\n",
    "from spectrome.utils import functions, path\n",
    "from spectrome.brain import Brain\n",
    "\n",
    "#generic modules\n",
    "import matplotlib.pyplot as plt\n",
    "import numpy as np\n",
    "import xarray as xr\n",
    "from scipy import stats\n",
    "\n",
    "plt.rcParams.update({\n",
    "    \"mathtext.fontset\": \"stix\",\n",
    "    \"font.family\": \"STIXGeneral\",\n",
    "    \"xtick.labelsize\": 12,\n",
    "    \"ytick.labelsize\": 12\n",
    "})"
   ],
   "outputs": [],
   "metadata": {}
  },
  {
   "cell_type": "markdown",
   "source": [
    "## Following is to generate individual connectomes and PSD"
   ],
   "metadata": {}
  },
  {
   "cell_type": "code",
   "execution_count": null,
   "source": [
    "# external function from matlab:\n",
    "def get_mean_C(C):\n",
    "    #C = np.mean(C, axis = 2)\n",
    "    C = (C + np.transpose(C))/2\n",
    "    \n",
    "    ss = np.argsort(-C[:])\n",
    "    C = np.minimum(C, ss[int(np.round(0.01*len(ss)))])\n",
    "    return C\n",
    "\n",
    "# define data directory\n",
    "data_dir = path.get_data_path()\n",
    "\n",
    "# cortical areas with MEG collected + source reconstructed\n",
    "rois_with_MEG = np.arange(0,68)\n",
    "\n",
    "## individual connectomes, this is a Nregion x Nregion x Nsubjects array:\n",
    "ind_conn_xr = xr.open_dataarray(data_dir + '/individual_connectomes_reordered.nc')\n",
    "ind_conn = ind_conn_xr.values\n",
    "\n",
    "## individual MEG spectra\n",
    "ind_psd_xr = xr.open_dataarray(data_dir + '/individual_psd_reordered_matlab.nc')\n",
    "ind_psd = ind_psd_xr.values\n",
    "\n",
    "ind_psd_db = functions.mag2db(ind_psd)\n",
    "\n",
    "fvec = ind_psd_xr[\"frequencies\"].values"
   ],
   "outputs": [],
   "metadata": {}
  },
  {
   "cell_type": "markdown",
   "source": [
    "## Function to get spatial correlations"
   ],
   "metadata": {}
  },
  {
   "cell_type": "code",
   "execution_count": null,
   "source": [
    "def subsc(cdk,psd,rois_with_MEG,fvec,band,SC,s):\n",
    "\n",
    "    C_ind = cdk[:,:,s] # grab current subject's individual connectome\n",
    "    F_ind = psd[rois_with_MEG,:,s] # grab current subject's MEG\n",
    "\n",
    "    data_dir = path.get_data_path()\n",
    "    # create spectrome brain:\n",
    "    brain = Brain.Brain()\n",
    "    brain.add_connectome(data_dir) # grabs distance matrix\n",
    "    # re-ordering for DK atlas and normalizing the connectomes:\n",
    "    brain.reorder_connectome(brain.connectome, brain.distance_matrix)\n",
    "    brain.connectome = C_ind # re-assign connectome to individual connectome\n",
    "    brain.bi_symmetric_c()\n",
    "    brain.reduce_extreme_dir()\n",
    "    brain.distance_matrix = get_mean_C(brain.distance_matrix)\n",
    "    brain.ntf_params[\"tau_e\"] = optparam[s,0]/1000\n",
    "    brain.ntf_params[\"tau_i\"] = optparam[s,1]/1000\n",
    "    brain.ntf_params[\"alpha\"] = optparam[s,2]\n",
    "    brain.ntf_params[\"speed\"] = optparam[s,3]\n",
    "    brain.ntf_params[\"gei\"] = optparam[s,4]\n",
    "    brain.ntf_params[\"gii\"] = optparam[s,5]\n",
    "    brain.ntf_params[\"tauC\"] = optparam[s,6]/1000\n",
    "\n",
    "    corr, eigvec_sorted, summed_PSD, eig_ind = runforward_spatialcorrelation.run_local_coupling_forward_Xk(brain, brain.ntf_params, fvec, F_ind, SC, rois_with_MEG,band)\n",
    "    \n",
    "    return corr, eigvec_sorted, summed_PSD, eig_ind"
   ],
   "outputs": [],
   "metadata": {}
  },
  {
   "cell_type": "markdown",
   "source": [
    "## Spatial correlations for the alpha frequency band"
   ],
   "metadata": {}
  },
  {
   "cell_type": "markdown",
   "source": [
    "Ignore the warning about Pearson's r since it is for the 4 regions for which connectome information was not available and therefore the eigenvectors are zero."
   ],
   "metadata": {}
  },
  {
   "cell_type": "code",
   "execution_count": null,
   "source": [
    "roi = 86\n",
    "\n",
    "optparam = np.loadtxt(\"../data/MSGM_Reordered_matlab_500iter.csv\",delimiter=\",\")\n",
    "nsubs = len(optparam[:,0])\n",
    "\n",
    "spcorrl = []\n",
    "spcorrlmax = []\n",
    "eigvec_al = []\n",
    "eigvec1_al = []\n",
    "for i in range(nsubs):\n",
    "    spcorr, eigvec, summed_PSD, eig_ind = subsc(ind_conn, ind_psd_db, rois_with_MEG, fvec, \"alpha\", roi, i)\n",
    "    spcorrl.append(spcorr)\n",
    "    spcorrlmax.append(max(spcorr))\n",
    "    maxind = np.argmax(spcorr)\n",
    "    eigvec_al.append(eig_ind[0:maxind+1])\n",
    "    eigvec1_al.append(eig_ind[0])\n",
    "spcorrl = np.asarray(spcorrl) # It should be Nsubs X rois_with_MEG\n",
    "\n",
    "fig, ax = plt.subplots(figsize=(4, 3.8))\n",
    "\n",
    "for i in range(nsubs):\n",
    "    ax.plot(range(roi), spcorrl[i,:], color = \"tab:cyan\")\n",
    "\n",
    "spcorrsub, eigvecsub, summed_PSD_sub, eig_ind = subsc(ind_conn, ind_psd_db, rois_with_MEG, fvec, \"alpha\", roi, 35)\n",
    "print(spcorrsub[0])\n",
    "spmax = np.argmax(spcorrsub)\n",
    "print(spcorrsub[spmax])\n",
    "eigvec_summed = np.sum(eigvecsub[:,0:(spmax+1)], axis = 1)\n",
    "ax.plot(range(roi), spcorrsub, color = \"blue\")\n",
    "\n",
    "spcorrsub, eigvecsub, summed_PSD_sub, eig_ind = subsc(ind_conn, ind_psd_db, rois_with_MEG, fvec, \"alpha\", roi, 15)\n",
    "print(spcorrsub[0])\n",
    "spmax = np.argmax(spcorrsub)\n",
    "print(spcorrsub[spmax])\n",
    "eigvec_summed = np.sum(eigvecsub[:,0:(spmax+1)], axis = 1)\n",
    "ax.plot(range(roi), spcorrsub, color = \"brown\")\n",
    "\n",
    "\n",
    "ax.plot(range(roi),np.mean(spcorrl,axis=0), color = \"k\")\n",
    "ax.set_title(\"M-SGM\", fontsize = 17)\n",
    "\n",
    "fig.add_subplot(111, frameon=False)\n",
    "plt.tick_params(labelcolor=\"none\", bottom=False, left=False)\n",
    "plt.xlabel(r'Sorted eigenvector index',fontsize=17)\n",
    "plt.ylabel(r'$\\alpha$ band spatial correlation',labelpad=12,fontsize=17)\n",
    "\n",
    "plt.tight_layout()"
   ],
   "outputs": [],
   "metadata": {}
  },
  {
   "cell_type": "markdown",
   "source": [
    "## Generate distributions of the eigenmodes"
   ],
   "metadata": {}
  },
  {
   "cell_type": "code",
   "execution_count": null,
   "source": [
    "plt.hist(list(np.concatenate(eigvec_al).flat), density=True);\n",
    "plt.title(r'$\\alpha$ band top eigenmodes',fontsize=17)\n",
    "plt.xlabel(r'Eigenvector index', fontsize = 17)"
   ],
   "outputs": [],
   "metadata": {}
  },
  {
   "cell_type": "markdown",
   "source": [
    "## Generate distributions of the eigenmodes"
   ],
   "metadata": {}
  },
  {
   "cell_type": "code",
   "execution_count": null,
   "source": [
    "plt.hist(eigvec1_al, density=True);\n",
    "plt.title(r'$\\alpha$ band first eigenmode',fontsize=17)\n",
    "plt.xlabel(r'Eigenvector index', fontsize = 17)"
   ],
   "outputs": [],
   "metadata": {}
  },
  {
   "cell_type": "markdown",
   "source": [
    "## Spatial correlations for the beta frequency band"
   ],
   "metadata": {}
  },
  {
   "cell_type": "code",
   "execution_count": null,
   "source": [
    "optparam = np.loadtxt(\"../data/MSGM_Reordered_matlab_500iter.csv\",delimiter=\",\")\n",
    "nsubs = len(optparam[:,0])\n",
    "\n",
    "spcorrl = []\n",
    "spcorrlmax = []\n",
    "eigvec_bl = []\n",
    "eigvec1_bl = []\n",
    "for i in range(nsubs):\n",
    "    spcorr, eigvec, summed_PSD, eig_ind = subsc(ind_conn, ind_psd_db, rois_with_MEG, fvec, \"beta\", roi, i)\n",
    "    spcorrl.append(spcorr)\n",
    "    spcorrlmax.append(max(spcorr))\n",
    "    maxind = np.argmax(spcorr)\n",
    "    eigvec_bl.append(eig_ind[0:maxind+1])\n",
    "    eigvec1_bl.append(eig_ind[0])\n",
    "spcorrl = np.asarray(spcorrl) # It should be Nsubs X rois_with_MEG\n",
    "\n",
    "fig, ax = plt.subplots(figsize=(4, 3.8))\n",
    "\n",
    "for i in range(nsubs):\n",
    "    ax.plot(range(roi), spcorrl[i,:], color = \"tab:cyan\")\n",
    "\n",
    "spcorrsub, eigvecsub, summed_PSD_sub, eig_ind = subsc(ind_conn, ind_psd_db, rois_with_MEG, fvec, \"beta\", roi, 3)\n",
    "print(spcorrsub[0])\n",
    "spmax = np.argmax(spcorrsub)\n",
    "print(spcorrsub[spmax])\n",
    "eigvec_summed = np.sum(eigvecsub[:,0:(spmax+1)], axis = 1)\n",
    "ax.plot(range(roi), spcorrsub, color = \"blue\") \n",
    "\n",
    "\n",
    "spcorrsub, eigvecsub, summed_PSD_sub, eig_ind = subsc(ind_conn, ind_psd_db, rois_with_MEG, fvec, \"beta\", roi, 15)\n",
    "print(spcorrsub[0])\n",
    "spmax = np.argmax(spcorrsub)\n",
    "print(spcorrsub[spmax])\n",
    "eigvec_summed = np.sum(eigvecsub[:,0:(spmax+1)], axis = 1)\n",
    "ax.plot(range(roi), spcorrsub, color = \"brown\") \n",
    "\n",
    "\n",
    "ax.plot(range(roi),np.mean(spcorrl,axis=0), color = \"k\")\n",
    "ax.set_title(\"M-SGM\", fontsize = 17)\n",
    "\n",
    "fig.add_subplot(111, frameon=False)\n",
    "plt.tick_params(labelcolor=\"none\", bottom=False, left=False)\n",
    "plt.xlabel(r'Sorted eigenvector index',fontsize=17)\n",
    "plt.ylabel(r'$\\beta$ band spatial correlation',labelpad=12,fontsize=17)\n",
    "\n",
    "plt.tight_layout()"
   ],
   "outputs": [],
   "metadata": {}
  },
  {
   "cell_type": "code",
   "execution_count": null,
   "source": [
    "plt.hist(list(np.concatenate(eigvec_bl).flat), density=True);\n",
    "plt.title(r'$\\beta$ band top eigenmodes',fontsize=17)\n",
    "plt.xlabel(r'Eigenvector index', fontsize = 17)"
   ],
   "outputs": [],
   "metadata": {}
  },
  {
   "cell_type": "code",
   "execution_count": null,
   "source": [
    "plt.hist(eigvec1_bl, density=True);\n",
    "plt.title(r'$\\beta$ band first eigenmode',fontsize=17)\n",
    "plt.xlabel(r'Eigenvector index', fontsize = 17)"
   ],
   "outputs": [],
   "metadata": {}
  }
 ],
 "metadata": {
  "interpreter": {
   "hash": "e330157330a5789555a99498b037b375f4d5d27a2c24955d524dedc16c6756bf"
  },
  "kernelspec": {
   "name": "python3",
   "display_name": "Python 3.9.6 64-bit ('spectrome': conda)"
  },
  "language_info": {
   "codemirror_mode": {
    "name": "ipython",
    "version": 3
   },
   "file_extension": ".py",
   "mimetype": "text/x-python",
   "name": "python",
   "nbconvert_exporter": "python",
   "pygments_lexer": "ipython3",
   "version": "3.9.6"
  }
 },
 "nbformat": 4,
 "nbformat_minor": 4
}