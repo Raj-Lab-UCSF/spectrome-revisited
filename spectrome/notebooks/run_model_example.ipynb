{
 "cells": [
  {
   "cell_type": "markdown",
   "source": [
    "## Simulating spectral graph model frequency spectrum with `spectrome`: Usage example"
   ],
   "metadata": {}
  },
  {
   "cell_type": "markdown",
   "source": [
    "![](./classes.png)"
   ],
   "metadata": {}
  },
  {
   "cell_type": "markdown",
   "source": [
    "### Import modules with respective paths"
   ],
   "metadata": {}
  },
  {
   "cell_type": "code",
   "execution_count": null,
   "source": [
    "# this path append is for binder only\n",
    "import sys\n",
    "sys.path.append(\"../../\")\n",
    "\n",
    "#spectrome modules\n",
    "from spectrome.forward import runforward\n",
    "from spectrome.utils import functions, path\n",
    "from spectrome.brain import Brain\n",
    "\n",
    "#generic modules\n",
    "import matplotlib.pyplot as plt\n",
    "import numpy as np"
   ],
   "outputs": [],
   "metadata": {}
  },
  {
   "cell_type": "markdown",
   "source": [
    "### Create new `Brain()` and populate it"
   ],
   "metadata": {}
  },
  {
   "cell_type": "markdown",
   "source": [
    "Let us first set up a `Brain()` and its attributes: `connectome`, `ordering`, and `ntf_params`"
   ],
   "metadata": {}
  },
  {
   "cell_type": "code",
   "execution_count": null,
   "source": [
    "new_brain = Brain.Brain()\n",
    "\n",
    "hcp_dir = path.get_data_path() # connectome information is in /data/ dir\n",
    "new_brain.add_connectome(hcp_dir) # Use default files in /data/"
   ],
   "outputs": [],
   "metadata": {}
  },
  {
   "cell_type": "markdown",
   "source": [
    "Let's see what the attributes of brain are:"
   ],
   "metadata": {}
  },
  {
   "cell_type": "code",
   "execution_count": null,
   "source": [
    "vars(new_brain).keys()"
   ],
   "outputs": [],
   "metadata": {}
  },
  {
   "cell_type": "markdown",
   "source": [
    "And which have been initialized, so far"
   ],
   "metadata": {}
  },
  {
   "cell_type": "code",
   "execution_count": null,
   "source": [
    "vars(new_brain)"
   ],
   "outputs": [],
   "metadata": {}
  },
  {
   "cell_type": "markdown",
   "source": [
    "We have the connectome (`Cdk_conn`), the distance matrix (`Ddk_conn`), the permanent hcp ordering (`permHCP`), and some defaul parameters for the `network_transfer_function` (`ntf_params`)."
   ],
   "metadata": {}
  },
  {
   "cell_type": "markdown",
   "source": [
    "Now, the `network_transfer_function` has 4 input parameters:\n",
    "- `C`: the **reduced** connectivity matrix\n",
    "- `D`: the distance matrix\n",
    "- `parameters`: the 7 ntf parameters\n",
    "- `w`: the frequency at which the ntf will be calculated at.\n",
    "    \n",
    "We have all but the first parameter since we need to convert the connectivity matrix to a **reduced** form. This is done by applying 2 functions to the `new_brain`:\n",
    "- `new_brain.bi_symmetric_c()`\n",
    "- `new_brain.reduce_extreme_dir()`"
   ],
   "metadata": {}
  },
  {
   "cell_type": "code",
   "execution_count": null,
   "source": [
    "# Some re-ordering and normalizing (reduced):\n",
    "new_brain.reorder_connectome(new_brain.connectome, new_brain.distance_matrix)\n",
    "new_brain.bi_symmetric_c()\n",
    "new_brain.reduce_extreme_dir()\n",
    "\n",
    "print(new_brain.reducedConnectome.shape)"
   ],
   "outputs": [],
   "metadata": {}
  },
  {
   "cell_type": "markdown",
   "source": [
    "For the Desikan-Killiany atlas, we have 86 brain regions.|"
   ],
   "metadata": {}
  },
  {
   "cell_type": "markdown",
   "source": [
    "### Calculating network transfer function for a *range* of frequencies"
   ],
   "metadata": {}
  },
  {
   "cell_type": "markdown",
   "source": [
    "Now loop over a range of frequencies of interest and calculate the network transfer function.\n",
    "\n",
    "1. First setup such frequencies:"
   ],
   "metadata": {}
  },
  {
   "cell_type": "code",
   "execution_count": null,
   "source": [
    "fs = 600 #sampling frequency\n",
    "fmin = 2 # 2Hz - 45Hz signal range, filter for this with hbp\n",
    "fmax = 45\n",
    "fvec = np.linspace(fmin,fmax,40)"
   ],
   "outputs": [],
   "metadata": {}
  },
  {
   "cell_type": "markdown",
   "source": [
    "2. Then calculate the frequency response:"
   ],
   "metadata": {}
  },
  {
   "cell_type": "code",
   "execution_count": null,
   "source": [
    "# Compute for all frequencies in fvec:\n",
    "model_spectrum, freq_response, eigvalues, eigvectors = runforward.run_local_coupling_forward(new_brain, new_brain.ntf_params, fvec)\n",
    "\n",
    "print(model_spectrum.shape)\n",
    "print(freq_response.shape)\n",
    "print(eigvectors.shape)"
   ],
   "outputs": [],
   "metadata": {}
  },
  {
   "cell_type": "markdown",
   "source": [
    "The output for this example is 86 brain regions and 40 frequency bins."
   ],
   "metadata": {}
  },
  {
   "cell_type": "markdown",
   "source": [
    "### Plotting the simulated frequency spectra:"
   ],
   "metadata": {}
  },
  {
   "cell_type": "code",
   "execution_count": null,
   "source": [
    "for g in range(len(model_spectrum)):\n",
    "    spectrum = np.abs(model_spectrum[g,:])\n",
    "    plt.plot(fvec,functions.mag2db(spectrum))\n",
    "\n",
    "plt.grid(True)\n",
    "plt.xlabel('Frequency (Hz)')\n",
    "plt.ylabel('Magnitude (dB)')\n"
   ],
   "outputs": [],
   "metadata": {}
  },
  {
   "cell_type": "code",
   "execution_count": null,
   "source": [],
   "outputs": [],
   "metadata": {}
  }
 ],
 "metadata": {
  "kernelspec": {
   "name": "python3",
   "display_name": "Python 3.9.6 64-bit ('spectrome': conda)"
  },
  "language_info": {
   "codemirror_mode": {
    "name": "ipython",
    "version": 3
   },
   "file_extension": ".py",
   "mimetype": "text/x-python",
   "name": "python",
   "nbconvert_exporter": "python",
   "pygments_lexer": "ipython3",
   "version": "3.9.6"
  },
  "metadata": {
   "interpreter": {
    "hash": "15ce7b80c6dfb9758d9ecd6707d0d873282b2e2b4eb23c502ae705891320a29e"
   }
  },
  "interpreter": {
   "hash": "e330157330a5789555a99498b037b375f4d5d27a2c24955d524dedc16c6756bf"
  }
 },
 "nbformat": 4,
 "nbformat_minor": 4
}