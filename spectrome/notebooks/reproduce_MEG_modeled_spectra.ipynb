{
 "cells": [
  {
   "cell_type": "code",
   "execution_count": null,
   "source": [
    "# this path append is for binder only\n",
    "import sys\n",
    "sys.path.append(\"../../\")\n",
    "\n",
    "#spectrome modules\n",
    "from spectrome.forward import runforward\n",
    "from spectrome.utils import functions, path\n",
    "from spectrome.brain import Brain\n",
    "\n",
    "#generic modules\n",
    "import matplotlib.pyplot as plt\n",
    "import numpy as np\n",
    "import xarray as xr\n",
    "import pandas as pd\n",
    "import seaborn as sns\n",
    "\n",
    "plt.rcParams.update({\n",
    "    \"mathtext.fontset\": \"stix\",\n",
    "    \"font.family\": \"STIXGeneral\",\n",
    "    \"xtick.labelsize\": 17,\n",
    "    \"ytick.labelsize\": 12\n",
    "})"
   ],
   "outputs": [],
   "metadata": {}
  },
  {
   "cell_type": "markdown",
   "source": [
    "## Loading the optimized parameters for M-SGM"
   ],
   "metadata": {}
  },
  {
   "cell_type": "code",
   "execution_count": null,
   "source": [
    "new = np.loadtxt(\"../data/MSGM_Reordered_matlab_500iter.csv\",delimiter=\",\")\n",
    "\n",
    "new_sorted = new[np.argsort(new[:, 8])]"
   ],
   "outputs": [],
   "metadata": {}
  },
  {
   "cell_type": "markdown",
   "source": [
    "## Distribution of the optimized parameters"
   ],
   "metadata": {}
  },
  {
   "cell_type": "code",
   "execution_count": null,
   "source": [
    "df=pd.DataFrame({r'$\\tau_e$':new_sorted[:,0], r'$\\tau_i$':new_sorted[:,1], r'$\\alpha$':new_sorted[:,2], r'$v$':new_sorted[:,3], r'$g_{ei}$':new_sorted[:,4], r'$g_{ii}$':new_sorted[:,5], r'$\\tau_G$':new_sorted[:,6]})\n",
    "\n",
    "palette = sns.husl_palette(7) \n",
    "\n",
    "fig, ax = plt.subplots(1,7, num=1,  gridspec_kw={'width_ratios':[2,2,2,2,2,2,2]}, figsize=(9, 4))\n",
    "\n",
    "sns.violinplot(data=df[[r'$\\tau_e$']], ax=ax[0],color=palette[0],cut=0)\n",
    "ax[0].set_xlabel('(ms)',fontsize=14)\n",
    "sns.violinplot(data=df[[r'$\\tau_i$']], ax=ax[1],color=palette[1],cut=0)\n",
    "ax[1].set_xlabel('(ms)',fontsize=14)\n",
    "sns.violinplot(data=df[[r'$\\alpha$']], ax=ax[2],color=palette[2],cut=0)\n",
    "sns.violinplot(data=df[[r'$v$']], ax=ax[3],color=palette[3],cut=0)\n",
    "ax[3].set_xlabel('(m/s)',fontsize=14)\n",
    "sns.violinplot(data=df[[r'$g_{ei}$']], ax=ax[4],color=palette[4],cut=0)\n",
    "sns.violinplot(data=df[[r'$g_{ii}$']], ax=ax[5],color=palette[5],cut=0)\n",
    "sns.violinplot(data=df[[r'$\\tau_G$']], ax=ax[6],color=palette[6],cut=0)\n",
    "ax[6].set_xlabel('(ms)',fontsize=14)\n",
    "plt.tight_layout()\n"
   ],
   "outputs": [],
   "metadata": {}
  },
  {
   "cell_type": "markdown",
   "source": [
    "## Function to obtain average modeled spectra"
   ],
   "metadata": {}
  },
  {
   "cell_type": "code",
   "execution_count": null,
   "source": [
    "# external function from matlab:\n",
    "def get_mean_C(C):\n",
    "    #C = np.mean(C, axis = 2)\n",
    "    C = (C + np.transpose(C))/2\n",
    "    \n",
    "    ss = np.argsort(-C[:])\n",
    "    C = np.minimum(C, ss[int(np.round(0.01*len(ss)))])\n",
    "    return C\n",
    "\n",
    "# define data directory\n",
    "data_dir = path.get_data_path()\n",
    "\n",
    "# cortical areas with MEG collected + source reconstructed\n",
    "rois_with_MEG = np.arange(0,68)\n"
   ],
   "outputs": [],
   "metadata": {}
  },
  {
   "cell_type": "code",
   "execution_count": null,
   "source": [
    "data_dir = path.get_data_path()\n",
    "## individual connectomes, this is a Nregion x Nregion x Nsubjects array:\n",
    "ind_conn_xr = xr.open_dataarray(data_dir + '/individual_connectomes_reordered.nc')\n",
    "ind_conn = ind_conn_xr.values\n",
    "\n",
    "ind_psd_xr = xr.open_dataarray(data_dir + '/individual_psd_reordered_matlab.nc')\n",
    "ind_psd = ind_psd_xr.values\n",
    "\n",
    "fvec = ind_psd_xr[\"frequencies\"].values\n",
    "\n",
    "def getpsd(cdk,rois_with_MEG,fvec,s,df_in):\n",
    "\n",
    "    C_ind = cdk[:,:,s] # grab current subject's individual connectome\n",
    "\n",
    "    data_dir = path.get_data_path()\n",
    "    # create spectrome brain:\n",
    "    brain = Brain.Brain()\n",
    "    brain.add_connectome(data_dir) # grabs distance matrix\n",
    "    # re-ordering for DK atlas and normalizing the connectomes:\n",
    "    brain.reorder_connectome(brain.connectome, brain.distance_matrix)\n",
    "    brain.connectome = C_ind # re-assign connectome to individual connectome\n",
    "    brain.bi_symmetric_c()\n",
    "    brain.reduce_extreme_dir()\n",
    "    brain.distance_matrix = get_mean_C(brain.distance_matrix)\n",
    "\n",
    "    brain.ntf_params[\"tau_e\"] = df_in[r'$\\tau_e$'][s]/1000\n",
    "    brain.ntf_params[\"tau_i\"] = df_in[r'$\\tau_i$'][s]/1000\n",
    "    brain.ntf_params[\"alpha\"] = df_in[r'$\\alpha$'][s]\n",
    "    brain.ntf_params[\"speed\"] = df_in[r'$v$'][s]\n",
    "    brain.ntf_params[\"gei\"] = df_in[r'$g_{ei}$'][s]\n",
    "    brain.ntf_params[\"gii\"] = df_in[r'$g_{ii}$'][s]\n",
    "    brain.ntf_params[\"tauC\"] = df_in[r'$\\tau_G$'][s]/1000\n",
    "\n",
    "    model_spectrum, _, _, _ = runforward.run_local_coupling_forward(brain, brain.ntf_params, fvec)\n",
    "\n",
    "    model_spectrum = model_spectrum[rois_with_MEG,:]\n",
    "    \n",
    "    filfinal = 0\n",
    "    for g in range(len(model_spectrum)):\n",
    "        spectrum = np.abs(model_spectrum[g,:])\n",
    "        filtered = functions.mag2db(spectrum)\n",
    "        filfinal += filtered\n",
    "\n",
    "    filfinal = filfinal/len(model_spectrum)\n",
    "\n",
    "    return filfinal"
   ],
   "outputs": [],
   "metadata": {}
  },
  {
   "cell_type": "markdown",
   "source": [
    "## Generating the MEG and modeled spectra for comparison"
   ],
   "metadata": {}
  },
  {
   "cell_type": "code",
   "execution_count": null,
   "source": [
    "nsubs = len(new_sorted[:,0])\n",
    "new_spectra = 0\n",
    "org_spectra_overall = 0\n",
    "\n",
    "for i in range(nsubs):\n",
    "    \n",
    "    spec_predicted = getpsd(ind_conn,rois_with_MEG,fvec,i,df)\n",
    "    new_spectra += spec_predicted\n",
    "\n",
    "\n",
    "    org_spectra = 0\n",
    "    for g in rois_with_MEG:\n",
    "        spectrum = functions.mag2db(ind_psd[g,:,i])\n",
    "        org_spectra += spectrum\n",
    "    org_spectra = org_spectra/len(rois_with_MEG)\n",
    "\n",
    "    org_spectra_overall += org_spectra\n",
    "\n",
    "new_spectra = new_spectra/nsubs\n",
    "org_spectra_overall = org_spectra_overall/nsubs"
   ],
   "outputs": [],
   "metadata": {}
  },
  {
   "cell_type": "markdown",
   "source": [
    "## Plotting normalized MEG and modeled average spectra"
   ],
   "metadata": {}
  },
  {
   "cell_type": "code",
   "execution_count": null,
   "source": [
    "plt.rcParams.update({\n",
    "    \"mathtext.fontset\": \"stix\",\n",
    "    \"font.family\": \"STIXGeneral\",\n",
    "    \"xtick.labelsize\": 12,\n",
    "    \"ytick.labelsize\": 12\n",
    "})\n",
    "\n",
    "new_normalized = (new_spectra - np.mean(new_spectra))/(np.std(new_spectra))\n",
    "org_normalized = (org_spectra_overall - np.mean(org_spectra_overall))/(np.std(org_spectra_overall))\n",
    "\n",
    "colorp = sns.color_palette(\"colorblind\",n_colors=3)\n",
    "\n",
    "fig, ax = plt.subplots()\n",
    "\n",
    "\n",
    "ax.plot(fvec,org_normalized,linestyle = '-',marker = 's',fillstyle = 'none',color = 'k', label = \"MEG\", alpha = 0.8)\n",
    "ax.plot(fvec,new_normalized,linestyle = '-',marker = 'o',fillstyle = 'none',color = 'b', label = \"M-SGM\", alpha = 0.8)\n",
    "\n",
    "ax.legend(fontsize = 14)\n",
    "ax.set_xlabel('Frequency (Hz)', fontsize = 17)\n",
    "ax.set_ylabel('Normalized PSD', fontsize = 17)\n",
    "\n",
    "plt.tight_layout()"
   ],
   "outputs": [],
   "metadata": {}
  },
  {
   "cell_type": "code",
   "execution_count": null,
   "source": [],
   "outputs": [],
   "metadata": {}
  }
 ],
 "metadata": {
  "interpreter": {
   "hash": "e330157330a5789555a99498b037b375f4d5d27a2c24955d524dedc16c6756bf"
  },
  "kernelspec": {
   "name": "python3",
   "display_name": "Python 3.9.6 64-bit ('spectrome': conda)"
  },
  "language_info": {
   "codemirror_mode": {
    "name": "ipython",
    "version": 3
   },
   "file_extension": ".py",
   "mimetype": "text/x-python",
   "name": "python",
   "nbconvert_exporter": "python",
   "pygments_lexer": "ipython3",
   "version": "3.9.6"
  }
 },
 "nbformat": 4,
 "nbformat_minor": 4
}